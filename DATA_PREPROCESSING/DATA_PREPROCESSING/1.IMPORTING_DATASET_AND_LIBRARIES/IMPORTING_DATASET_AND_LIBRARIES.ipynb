{
  "cells": [
    {
      "cell_type": "markdown",
      "metadata": {
        "id": "pPnT_XVXQ9kh"
      },
      "source": [
        "# **1.1. IMPORTING DATASET**"
      ]
    },
    {
      "cell_type": "code",
      "execution_count": 4,
      "metadata": {
        "id": "w8rCsBrUKfPw"
      },
      "outputs": [],
      "source": [
        "import pandas as pd"
      ]
    },
    {
      "cell_type": "code",
      "execution_count": 5,
      "metadata": {
        "id": "DuwHCfu1Knsl"
      },
      "outputs": [],
      "source": [
        "ds=pd.read_csv(r\"Crude_Oil_Prices.csv\")"
      ]
    },
    {
      "cell_type": "code",
      "execution_count": 6,
      "metadata": {
        "colab": {
          "base_uri": "https://localhost:8080/"
        },
        "id": "sOjj8txDNJ6q",
        "outputId": "baa298a3-313d-42fe-98ff-cb7d2de29747"
      },
      "outputs": [
        {
          "data": {
            "text/plain": [
              "(2547, 2)"
            ]
          },
          "execution_count": 6,
          "metadata": {},
          "output_type": "execute_result"
        }
      ],
      "source": [
        "ds.shape"
      ]
    },
    {
      "cell_type": "code",
      "execution_count": null,
      "metadata": {
        "colab": {
          "base_uri": "https://localhost:8080/"
        },
        "id": "6hiX9ZpwNQ0x",
        "outputId": "e718686c-5946-49f8-c7b9-f609270933c7"
      },
      "outputs": [
        {
          "data": {
            "text/plain": [
              "<bound method NDFrame.head of             date   value\n",
              "0     29-10-2012   85.54\n",
              "1     30-10-2012   85.68\n",
              "2     31-10-2012   86.24\n",
              "3     01-11-2012   87.09\n",
              "4     02-11-2012   84.86\n",
              "...          ...     ...\n",
              "2542  12-11-2022     NaN\n",
              "2543  13-11-2022     NaN\n",
              "2544  14-11-2022     NaN\n",
              "2545  15-11-2022     NaN\n",
              "2546  16-11-2022     NaN\n",
              "\n",
              "[2547 rows x 2 columns]>"
            ]
          },
          "execution_count": 7,
          "metadata": {},
          "output_type": "execute_result"
        }
      ],
      "source": [
        "ds.head(10)"
      ]
    },
    {
      "cell_type": "markdown",
      "metadata": {
        "id": "018JWw70RH4P"
      },
      "source": [
        "# **1.2. IMPORTING LIBRARIES**"
      ]
    },
    {
      "cell_type": "code",
      "execution_count": 8,
      "metadata": {
        "id": "F9YKcIeDRQMJ"
      },
      "outputs": [],
      "source": [
        "import numpy as np\n",
        "import pandas as pd\n",
        "import seaborn as sns\n",
        "import matplotlib.pyplot as plt"
      ]
    }
  ],
  "metadata": {
    "colab": {
      "provenance": []
    },
    "kernelspec": {
      "display_name": "Python 3.8.10 64-bit",
      "language": "python",
      "name": "python3"
    },
    "language_info": {
      "name": "python",
      "version": "3.8.10"
    },
    "vscode": {
      "interpreter": {
        "hash": "ba0d64691f37684b52a5f4d531d2540796a03720396476a1a31b1fd094d079ed"
      }
    }
  },
  "nbformat": 4,
  "nbformat_minor": 0
}
